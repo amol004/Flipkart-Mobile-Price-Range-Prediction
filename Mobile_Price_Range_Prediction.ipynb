{
  "nbformat": 4,
  "nbformat_minor": 0,
  "metadata": {
    "colab": {
      "provenance": [],
      "authorship_tag": "ABX9TyMBxpCFvexTNxIi5TJWogJs",
      "include_colab_link": true
    },
    "kernelspec": {
      "name": "python3",
      "display_name": "Python 3"
    },
    "language_info": {
      "name": "python"
    }
  },
  "cells": [
    {
      "cell_type": "markdown",
      "metadata": {
        "id": "view-in-github",
        "colab_type": "text"
      },
      "source": [
        "<a href=\"https://colab.research.google.com/github/amol004/Mobile-Price-Range-Prediction/blob/main/Mobile_Price_Range_Prediction.ipynb\" target=\"_parent\"><img src=\"https://colab.research.google.com/assets/colab-badge.svg\" alt=\"Open In Colab\"/></a>"
      ]
    },
    {
      "cell_type": "code",
      "source": [
        "# used for numerical operations\n",
        "import numpy as np\n",
        "# for data manipulation\n",
        "import pandas as pd\n",
        "# for data vizulization\n",
        "import matplotlib.pyplot as plt\n",
        "%matplotlib inline\n",
        "import seaborn as sns\n",
        "from wordcloud import WordCloud ,STOPWORDS\n",
        "# for visualizing missing/null values in our data frame\n",
        "import missingno as msno\n",
        "# for manipulation of data with type datetime\n",
        "from datetime import datetime\n",
        "# used to remove warnings for better asthetics\n",
        "import warnings\n",
        "warnings.filterwarnings('ignore')\n",
        "# to increase the number of visible columns in our data frame\n",
        "from google.colab.data_table import DataTable\n",
        "DataTable.max_columns = 30\n",
        "\n",
        "#SKLEARN#\n",
        "# preprocessing technique in scikit-learn that scales the features of a dataset to have zero mean and unit variance.\n",
        "from sklearn.preprocessing import StandardScaler\n",
        "# preprocessing technique in scikit-learn that converts categorical variables into numerical values using one-hot encoding.\n",
        "from sklearn.preprocessing import OneHotEncoder\n",
        "# function in scikit-learn that splits a dataset into training and testing sets for machine learning model evaluation.\n",
        "from sklearn.model_selection import train_test_split\n",
        "# method in scikit-learn for hyperparameter tuning that performs randomized search over specified parameter values for an estimator.\n",
        "from sklearn.model_selection import RandomizedSearchCV\n",
        "# method in scikit-learn for hyperparameter tuning that performs exhaustive search over specified parameter values for an estimator.\n",
        "from sklearn.model_selection import GridSearchCV\n",
        "# function in scikit-learn that performs k-fold cross-validation for model evaluation, returning an array of scores for each fold.\n",
        "from sklearn.model_selection import cross_val_score\n",
        "# linear regression model in scikit-learn that predicts the target variable based on linear relationship between input features and target.\n",
        "from sklearn.linear_model import LinearRegression\n",
        "# it is a linear regression model in scikit-learn that performs L2 regularization to prevent overfitting.\n",
        "from sklearn.linear_model import Ridge\n",
        "# a linear regression model in scikit-learn that performs L1 regularization to prevent overfitting and feature selection.\n",
        "from sklearn.linear_model import Lasso\n",
        "#  module in scikit-learn that provides various evaluation metrics for model performance, such as accuracy, precision, recall, and F1-score.\n",
        "from sklearn import metrics\n",
        "# metric in scikit-learn that calculates the coefficient of determination (R2) to evaluate the goodness-of-fit of a regression model.\n",
        "from sklearn.metrics import r2_score\n",
        "# it is a metric in scikit-learn that calculates the mean squared error (MSE) between predicted and actual values to evaluate the performance of a regression model.\n",
        "from sklearn.metrics import mean_squared_error\n"
      ],
      "metadata": {
        "id": "M8Vqi-pPk-HR"
      },
      "execution_count": null,
      "outputs": []
    },
    {
      "cell_type": "code",
      "source": [],
      "metadata": {
        "id": "iXhDbqqv7puA"
      },
      "execution_count": null,
      "outputs": []
    },
    {
      "cell_type": "code",
      "source": [],
      "metadata": {
        "id": "J3qnPn7F7pre"
      },
      "execution_count": null,
      "outputs": []
    },
    {
      "cell_type": "code",
      "source": [],
      "metadata": {
        "id": "TflwALz37ppF"
      },
      "execution_count": null,
      "outputs": []
    },
    {
      "cell_type": "code",
      "source": [],
      "metadata": {
        "id": "LN5uCW1w7pm1"
      },
      "execution_count": null,
      "outputs": []
    },
    {
      "cell_type": "code",
      "source": [],
      "metadata": {
        "id": "Hn16QSQR7pkf"
      },
      "execution_count": null,
      "outputs": []
    },
    {
      "cell_type": "code",
      "source": [],
      "metadata": {
        "id": "sTOkgBZI7ph8"
      },
      "execution_count": null,
      "outputs": []
    },
    {
      "cell_type": "code",
      "source": [],
      "metadata": {
        "id": "vvHfb9PR7pfZ"
      },
      "execution_count": null,
      "outputs": []
    },
    {
      "cell_type": "code",
      "source": [],
      "metadata": {
        "id": "mQYQj-6g7pco"
      },
      "execution_count": null,
      "outputs": []
    }
  ]
}